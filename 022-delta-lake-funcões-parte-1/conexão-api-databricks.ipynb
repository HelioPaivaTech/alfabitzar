{
 "cells": [
  {
   "cell_type": "code",
   "execution_count": 0,
   "metadata": {
    "application/vnd.databricks.v1+cell": {
     "cellMetadata": {
      "byteLimit": 2048000,
      "rowLimit": 10000
     },
     "inputWidgets": {},
     "nuid": "2258d8c1-95cf-4283-97bf-facdd26dd6fe",
     "showTitle": true,
     "title": "Importar bibliotecas"
    }
   },
   "outputs": [],
   "source": [
    "import requests \n",
    "import pandas as pd"
   ]
  },
  {
   "cell_type": "code",
   "execution_count": 0,
   "metadata": {
    "application/vnd.databricks.v1+cell": {
     "cellMetadata": {
      "byteLimit": 2048000,
      "rowLimit": 10000
     },
     "inputWidgets": {},
     "nuid": "8a297b3f-bb7c-4cdd-8fd6-53b5804fb385",
     "showTitle": true,
     "title": "Consulta resposta da API"
    }
   },
   "outputs": [
    {
     "output_type": "stream",
     "name": "stdout",
     "output_type": "stream",
     "text": [
      "<Response [200]>\n"
     ]
    }
   ],
   "source": [
    "url = 'https://brasilapi.com.br/api/feriados/v1/2024'\n",
    "response = requests.get(url)\n",
    "print(response)"
   ]
  },
  {
   "cell_type": "code",
   "execution_count": 0,
   "metadata": {
    "application/vnd.databricks.v1+cell": {
     "cellMetadata": {
      "byteLimit": 2048000,
      "rowLimit": 10000
     },
     "inputWidgets": {},
     "nuid": "dff1e32d-f24d-4a90-b98f-1968dcb553f5",
     "showTitle": true,
     "title": "Visualização dos dados a API"
    }
   },
   "outputs": [
    {
     "output_type": "stream",
     "name": "stdout",
     "output_type": "stream",
     "text": [
      "[{'date': '2024-01-01', 'name': 'Confraternização mundial', 'type': 'national'}, {'date': '2024-02-13', 'name': 'Carnaval', 'type': 'national'}, {'date': '2024-03-29', 'name': 'Sexta-feira Santa', 'type': 'national'}, {'date': '2024-03-31', 'name': 'Páscoa', 'type': 'national'}, {'date': '2024-04-21', 'name': 'Tiradentes', 'type': 'national'}, {'date': '2024-05-01', 'name': 'Dia do trabalho', 'type': 'national'}, {'date': '2024-05-30', 'name': 'Corpus Christi', 'type': 'national'}, {'date': '2024-09-07', 'name': 'Independência do Brasil', 'type': 'national'}, {'date': '2024-10-12', 'name': 'Nossa Senhora Aparecida', 'type': 'national'}, {'date': '2024-11-02', 'name': 'Finados', 'type': 'national'}, {'date': '2024-11-15', 'name': 'Proclamação da República', 'type': 'national'}, {'date': '2024-12-25', 'name': 'Natal', 'type': 'national'}]\n"
     ]
    }
   ],
   "source": [
    "data = response.json()\n",
    "print(data)"
   ]
  },
  {
   "cell_type": "code",
   "execution_count": 0,
   "metadata": {
    "application/vnd.databricks.v1+cell": {
     "cellMetadata": {
      "byteLimit": 2048000,
      "rowLimit": 10000
     },
     "inputWidgets": {},
     "nuid": "375377d1-db28-41b3-8ae3-552e00c8c331",
     "showTitle": true,
     "title": "Criando DataFrame Com Spark"
    }
   },
   "outputs": [
    {
     "output_type": "display_data",
     "data": {
      "text/html": [
       "<style scoped>\n",
       "  .table-result-container {\n",
       "    max-height: 300px;\n",
       "    overflow: auto;\n",
       "  }\n",
       "  table, th, td {\n",
       "    border: 1px solid black;\n",
       "    border-collapse: collapse;\n",
       "  }\n",
       "  th, td {\n",
       "    padding: 5px;\n",
       "  }\n",
       "  th {\n",
       "    text-align: left;\n",
       "  }\n",
       "</style><div class='table-result-container'><table class='table-result'><thead style='background-color: white'><tr><th>date</th><th>name</th><th>type</th></tr></thead><tbody><tr><td>2024-01-01</td><td>Confraternização mundial</td><td>national</td></tr><tr><td>2024-02-13</td><td>Carnaval</td><td>national</td></tr><tr><td>2024-03-29</td><td>Sexta-feira Santa</td><td>national</td></tr><tr><td>2024-03-31</td><td>Páscoa</td><td>national</td></tr><tr><td>2024-04-21</td><td>Tiradentes</td><td>national</td></tr><tr><td>2024-05-01</td><td>Dia do trabalho</td><td>national</td></tr><tr><td>2024-05-30</td><td>Corpus Christi</td><td>national</td></tr><tr><td>2024-09-07</td><td>Independência do Brasil</td><td>national</td></tr><tr><td>2024-10-12</td><td>Nossa Senhora Aparecida</td><td>national</td></tr><tr><td>2024-11-02</td><td>Finados</td><td>national</td></tr><tr><td>2024-11-15</td><td>Proclamação da República</td><td>national</td></tr><tr><td>2024-12-25</td><td>Natal</td><td>national</td></tr></tbody></table></div>"
      ]
     },
     "metadata": {
      "application/vnd.databricks.v1+output": {
       "addedWidgets": {},
       "aggData": [],
       "aggError": "",
       "aggOverflow": false,
       "aggSchema": [],
       "aggSeriesLimitReached": false,
       "aggType": "",
       "arguments": {},
       "columnCustomDisplayInfos": {},
       "data": [
        [
         "2024-01-01",
         "Confraternização mundial",
         "national"
        ],
        [
         "2024-02-13",
         "Carnaval",
         "national"
        ],
        [
         "2024-03-29",
         "Sexta-feira Santa",
         "national"
        ],
        [
         "2024-03-31",
         "Páscoa",
         "national"
        ],
        [
         "2024-04-21",
         "Tiradentes",
         "national"
        ],
        [
         "2024-05-01",
         "Dia do trabalho",
         "national"
        ],
        [
         "2024-05-30",
         "Corpus Christi",
         "national"
        ],
        [
         "2024-09-07",
         "Independência do Brasil",
         "national"
        ],
        [
         "2024-10-12",
         "Nossa Senhora Aparecida",
         "national"
        ],
        [
         "2024-11-02",
         "Finados",
         "national"
        ],
        [
         "2024-11-15",
         "Proclamação da República",
         "national"
        ],
        [
         "2024-12-25",
         "Natal",
         "national"
        ]
       ],
       "datasetInfos": [],
       "dbfsResultPath": null,
       "isJsonSchema": true,
       "metadata": {},
       "overflow": false,
       "plotOptions": {
        "customPlotOptions": {},
        "displayType": "table",
        "pivotAggregation": null,
        "pivotColumns": null,
        "xColumns": null,
        "yColumns": null
       },
       "removedWidgets": [],
       "schema": [
        {
         "metadata": "{}",
         "name": "date",
         "type": "\"string\""
        },
        {
         "metadata": "{}",
         "name": "name",
         "type": "\"string\""
        },
        {
         "metadata": "{}",
         "name": "type",
         "type": "\"string\""
        }
       ],
       "type": "table"
      }
     },
     "output_type": "display_data"
    }
   ],
   "source": [
    "df = spark.createDataFrame(data)\n",
    "df.display()"
   ]
  },
  {
   "cell_type": "code",
   "execution_count": 0,
   "metadata": {
    "application/vnd.databricks.v1+cell": {
     "cellMetadata": {
      "byteLimit": 2048000,
      "implicitDf": true,
      "rowLimit": 10000
     },
     "inputWidgets": {},
     "nuid": "2e3722f9-d3ac-4d85-94fd-4601f6a62416",
     "showTitle": true,
     "title": "Criando Database Delta"
    }
   },
   "outputs": [
    {
     "output_type": "display_data",
     "data": {
      "text/html": [
       "<style scoped>\n",
       "  .table-result-container {\n",
       "    max-height: 300px;\n",
       "    overflow: auto;\n",
       "  }\n",
       "  table, th, td {\n",
       "    border: 1px solid black;\n",
       "    border-collapse: collapse;\n",
       "  }\n",
       "  th, td {\n",
       "    padding: 5px;\n",
       "  }\n",
       "  th {\n",
       "    text-align: left;\n",
       "  }\n",
       "</style><div class='table-result-container'><table class='table-result'><thead style='background-color: white'><tr></tr></thead><tbody></tbody></table></div>"
      ]
     },
     "metadata": {
      "application/vnd.databricks.v1+output": {
       "addedWidgets": {},
       "aggData": [],
       "aggError": "",
       "aggOverflow": false,
       "aggSchema": [],
       "aggSeriesLimitReached": false,
       "aggType": "",
       "arguments": {},
       "columnCustomDisplayInfos": {},
       "data": [],
       "datasetInfos": [],
       "dbfsResultPath": null,
       "isJsonSchema": true,
       "metadata": {},
       "overflow": false,
       "plotOptions": {
        "customPlotOptions": {},
        "displayType": "table",
        "pivotAggregation": null,
        "pivotColumns": null,
        "xColumns": null,
        "yColumns": null
       },
       "removedWidgets": [],
       "schema": [],
       "type": "table"
      }
     },
     "output_type": "display_data"
    }
   ],
   "source": [
    "%sql\n",
    "create database if not exists brasil_api"
   ]
  },
  {
   "cell_type": "code",
   "execution_count": 0,
   "metadata": {
    "application/vnd.databricks.v1+cell": {
     "cellMetadata": {
      "byteLimit": 2048000,
      "rowLimit": 10000
     },
     "inputWidgets": {},
     "nuid": "1fc618fe-c22e-4bbf-8593-9fbcfb073de8",
     "showTitle": true,
     "title": "Criando View do DataFrame"
    }
   },
   "outputs": [],
   "source": [
    "df.createOrReplaceTempView(\"view_api_feriados\")"
   ]
  },
  {
   "cell_type": "code",
   "execution_count": 0,
   "metadata": {
    "application/vnd.databricks.v1+cell": {
     "cellMetadata": {
      "byteLimit": 2048000,
      "rowLimit": 10000
     },
     "inputWidgets": {},
     "nuid": "a5726d03-78f2-49df-b2c5-519989bf214d",
     "showTitle": true,
     "title": "Criando tabela delta"
    }
   },
   "outputs": [
    {
     "output_type": "stream",
     "name": "stdout",
     "output_type": "stream",
     "text": [
      "Out[22]: DataFrame[num_affected_rows: bigint, num_inserted_rows: bigint]"
     ]
    }
   ],
   "source": [
    "spark.sql(\"\"\"\n",
    "            create or replace table brasil_api.tb_feriados\n",
    "            using delta\n",
    "            as\n",
    "            select * from view_api_feriados\n",
    "          \"\"\")"
   ]
  },
  {
   "cell_type": "code",
   "execution_count": 0,
   "metadata": {
    "application/vnd.databricks.v1+cell": {
     "cellMetadata": {
      "byteLimit": 2048000,
      "implicitDf": true,
      "rowLimit": 10000
     },
     "inputWidgets": {},
     "nuid": "37020c27-a318-43b5-ad23-b51451752b3b",
     "showTitle": true,
     "title": "Consulta tabela delta"
    }
   },
   "outputs": [
    {
     "output_type": "display_data",
     "data": {
      "text/html": [
       "<style scoped>\n",
       "  .table-result-container {\n",
       "    max-height: 300px;\n",
       "    overflow: auto;\n",
       "  }\n",
       "  table, th, td {\n",
       "    border: 1px solid black;\n",
       "    border-collapse: collapse;\n",
       "  }\n",
       "  th, td {\n",
       "    padding: 5px;\n",
       "  }\n",
       "  th {\n",
       "    text-align: left;\n",
       "  }\n",
       "</style><div class='table-result-container'><table class='table-result'><thead style='background-color: white'><tr><th>date</th><th>name</th><th>type</th></tr></thead><tbody><tr><td>2024-01-01</td><td>Confraternização mundial</td><td>national</td></tr><tr><td>2024-09-07</td><td>Independência do Brasil</td><td>national</td></tr><tr><td>2024-10-12</td><td>Nossa Senhora Aparecida</td><td>national</td></tr><tr><td>2024-11-15</td><td>Proclamação da República</td><td>national</td></tr><tr><td>2024-12-25</td><td>Natal</td><td>national</td></tr><tr><td>2024-04-21</td><td>Tiradentes</td><td>national</td></tr><tr><td>2024-05-01</td><td>Dia do trabalho</td><td>national</td></tr><tr><td>2024-02-13</td><td>Carnaval</td><td>national</td></tr><tr><td>2024-03-29</td><td>Sexta-feira Santa</td><td>national</td></tr><tr><td>2024-05-30</td><td>Corpus Christi</td><td>national</td></tr><tr><td>2024-03-31</td><td>Páscoa</td><td>national</td></tr><tr><td>2024-11-02</td><td>Finados</td><td>national</td></tr></tbody></table></div>"
      ]
     },
     "metadata": {
      "application/vnd.databricks.v1+output": {
       "addedWidgets": {},
       "aggData": [],
       "aggError": "",
       "aggOverflow": false,
       "aggSchema": [],
       "aggSeriesLimitReached": false,
       "aggType": "",
       "arguments": {},
       "columnCustomDisplayInfos": {},
       "data": [
        [
         "2024-01-01",
         "Confraternização mundial",
         "national"
        ],
        [
         "2024-09-07",
         "Independência do Brasil",
         "national"
        ],
        [
         "2024-10-12",
         "Nossa Senhora Aparecida",
         "national"
        ],
        [
         "2024-11-15",
         "Proclamação da República",
         "national"
        ],
        [
         "2024-12-25",
         "Natal",
         "national"
        ],
        [
         "2024-04-21",
         "Tiradentes",
         "national"
        ],
        [
         "2024-05-01",
         "Dia do trabalho",
         "national"
        ],
        [
         "2024-02-13",
         "Carnaval",
         "national"
        ],
        [
         "2024-03-29",
         "Sexta-feira Santa",
         "national"
        ],
        [
         "2024-05-30",
         "Corpus Christi",
         "national"
        ],
        [
         "2024-03-31",
         "Páscoa",
         "national"
        ],
        [
         "2024-11-02",
         "Finados",
         "national"
        ]
       ],
       "datasetInfos": [],
       "dbfsResultPath": null,
       "isJsonSchema": true,
       "metadata": {},
       "overflow": false,
       "plotOptions": {
        "customPlotOptions": {},
        "displayType": "table",
        "pivotAggregation": null,
        "pivotColumns": null,
        "xColumns": null,
        "yColumns": null
       },
       "removedWidgets": [],
       "schema": [
        {
         "metadata": "{}",
         "name": "date",
         "type": "\"string\""
        },
        {
         "metadata": "{}",
         "name": "name",
         "type": "\"string\""
        },
        {
         "metadata": "{}",
         "name": "type",
         "type": "\"string\""
        }
       ],
       "type": "table"
      }
     },
     "output_type": "display_data"
    }
   ],
   "source": [
    "%sql\n",
    "select * from brasil_api.tb_feriados"
   ]
  },
  {
   "cell_type": "code",
   "execution_count": 0,
   "metadata": {
    "application/vnd.databricks.v1+cell": {
     "cellMetadata": {
      "byteLimit": 2048000,
      "implicitDf": true,
      "rowLimit": 10000
     },
     "inputWidgets": {},
     "nuid": "b39c0250-ac17-452a-8736-1a2303e9b5a0",
     "showTitle": true,
     "title": "Historico de versões"
    }
   },
   "outputs": [
    {
     "output_type": "display_data",
     "data": {
      "text/html": [
       "<style scoped>\n",
       "  .table-result-container {\n",
       "    max-height: 300px;\n",
       "    overflow: auto;\n",
       "  }\n",
       "  table, th, td {\n",
       "    border: 1px solid black;\n",
       "    border-collapse: collapse;\n",
       "  }\n",
       "  th, td {\n",
       "    padding: 5px;\n",
       "  }\n",
       "  th {\n",
       "    text-align: left;\n",
       "  }\n",
       "</style><div class='table-result-container'><table class='table-result'><thead style='background-color: white'><tr><th>version</th><th>timestamp</th><th>userId</th><th>userName</th><th>operation</th><th>operationParameters</th><th>job</th><th>notebook</th><th>clusterId</th><th>readVersion</th><th>isolationLevel</th><th>isBlindAppend</th><th>operationMetrics</th><th>userMetadata</th><th>engineInfo</th></tr></thead><tbody><tr><td>1</td><td>2023-11-27T23:40:32.000+0000</td><td>3913302672655187</td><td>helio@heliopaiva.com</td><td>CREATE OR REPLACE TABLE AS SELECT</td><td>Map(isManaged -> true, description -> null, partitionBy -> [], properties -> {})</td><td>null</td><td>List(2466582897652892)</td><td>1127-231853-blogatk6</td><td>0</td><td>WriteSerializable</td><td>false</td><td>Map(numFiles -> 8, numOutputRows -> 12, numOutputBytes -> 9665)</td><td>null</td><td>Databricks-Runtime/12.2.x-scala2.12</td></tr><tr><td>0</td><td>2023-11-27T00:56:42.000+0000</td><td>3913302672655187</td><td>helio@heliopaiva.com</td><td>CREATE OR REPLACE TABLE AS SELECT</td><td>Map(isManaged -> true, description -> null, partitionBy -> [], properties -> {})</td><td>null</td><td>List(68930538630527)</td><td>1127-001215-4iaksv2o</td><td>null</td><td>WriteSerializable</td><td>false</td><td>Map(numFiles -> 8, numOutputRows -> 12, numOutputBytes -> 9665)</td><td>null</td><td>Databricks-Runtime/12.2.x-scala2.12</td></tr></tbody></table></div>"
      ]
     },
     "metadata": {
      "application/vnd.databricks.v1+output": {
       "addedWidgets": {},
       "aggData": [],
       "aggError": "",
       "aggOverflow": false,
       "aggSchema": [],
       "aggSeriesLimitReached": false,
       "aggType": "",
       "arguments": {},
       "columnCustomDisplayInfos": {},
       "data": [
        [
         1,
         "2023-11-27T23:40:32.000+0000",
         "3913302672655187",
         "helio@heliopaiva.com",
         "CREATE OR REPLACE TABLE AS SELECT",
         {
          "description": null,
          "isManaged": "true",
          "partitionBy": "[]",
          "properties": "{}"
         },
         null,
         [
          "2466582897652892"
         ],
         "1127-231853-blogatk6",
         0,
         "WriteSerializable",
         false,
         {
          "numFiles": "8",
          "numOutputBytes": "9665",
          "numOutputRows": "12"
         },
         null,
         "Databricks-Runtime/12.2.x-scala2.12"
        ],
        [
         0,
         "2023-11-27T00:56:42.000+0000",
         "3913302672655187",
         "helio@heliopaiva.com",
         "CREATE OR REPLACE TABLE AS SELECT",
         {
          "description": null,
          "isManaged": "true",
          "partitionBy": "[]",
          "properties": "{}"
         },
         null,
         [
          "68930538630527"
         ],
         "1127-001215-4iaksv2o",
         null,
         "WriteSerializable",
         false,
         {
          "numFiles": "8",
          "numOutputBytes": "9665",
          "numOutputRows": "12"
         },
         null,
         "Databricks-Runtime/12.2.x-scala2.12"
        ]
       ],
       "datasetInfos": [],
       "dbfsResultPath": null,
       "isJsonSchema": true,
       "metadata": {},
       "overflow": false,
       "plotOptions": {
        "customPlotOptions": {},
        "displayType": "table",
        "pivotAggregation": null,
        "pivotColumns": null,
        "xColumns": null,
        "yColumns": null
       },
       "removedWidgets": [],
       "schema": [
        {
         "metadata": "{}",
         "name": "version",
         "type": "\"long\""
        },
        {
         "metadata": "{}",
         "name": "timestamp",
         "type": "\"timestamp\""
        },
        {
         "metadata": "{}",
         "name": "userId",
         "type": "\"string\""
        },
        {
         "metadata": "{}",
         "name": "userName",
         "type": "\"string\""
        },
        {
         "metadata": "{}",
         "name": "operation",
         "type": "\"string\""
        },
        {
         "metadata": "{}",
         "name": "operationParameters",
         "type": "{\"type\":\"map\",\"keyType\":\"string\",\"valueType\":\"string\",\"valueContainsNull\":true}"
        },
        {
         "metadata": "{}",
         "name": "job",
         "type": "{\"type\":\"struct\",\"fields\":[{\"name\":\"jobId\",\"type\":\"string\",\"nullable\":true,\"metadata\":{}},{\"name\":\"jobName\",\"type\":\"string\",\"nullable\":true,\"metadata\":{}},{\"name\":\"jobRunId\",\"type\":\"string\",\"nullable\":true,\"metadata\":{}},{\"name\":\"runId\",\"type\":\"string\",\"nullable\":true,\"metadata\":{}},{\"name\":\"jobOwnerId\",\"type\":\"string\",\"nullable\":true,\"metadata\":{}},{\"name\":\"triggerType\",\"type\":\"string\",\"nullable\":true,\"metadata\":{}}]}"
        },
        {
         "metadata": "{}",
         "name": "notebook",
         "type": "{\"type\":\"struct\",\"fields\":[{\"name\":\"notebookId\",\"type\":\"string\",\"nullable\":true,\"metadata\":{}}]}"
        },
        {
         "metadata": "{}",
         "name": "clusterId",
         "type": "\"string\""
        },
        {
         "metadata": "{}",
         "name": "readVersion",
         "type": "\"long\""
        },
        {
         "metadata": "{}",
         "name": "isolationLevel",
         "type": "\"string\""
        },
        {
         "metadata": "{}",
         "name": "isBlindAppend",
         "type": "\"boolean\""
        },
        {
         "metadata": "{}",
         "name": "operationMetrics",
         "type": "{\"type\":\"map\",\"keyType\":\"string\",\"valueType\":\"string\",\"valueContainsNull\":true}"
        },
        {
         "metadata": "{}",
         "name": "userMetadata",
         "type": "\"string\""
        },
        {
         "metadata": "{}",
         "name": "engineInfo",
         "type": "\"string\""
        }
       ],
       "type": "table"
      }
     },
     "output_type": "display_data"
    }
   ],
   "source": [
    "%sql\n",
    "describe history brasil_api.tb_feriados"
   ]
  },
  {
   "cell_type": "code",
   "execution_count": 0,
   "metadata": {
    "application/vnd.databricks.v1+cell": {
     "cellMetadata": {
      "byteLimit": 2048000,
      "implicitDf": true,
      "rowLimit": 10000
     },
     "inputWidgets": {},
     "nuid": "59c439af-b7bc-4444-9b7d-8ab7b98bfee3",
     "showTitle": true,
     "title": "Detalhe da Tabela Delta"
    }
   },
   "outputs": [
    {
     "output_type": "display_data",
     "data": {
      "text/html": [
       "<style scoped>\n",
       "  .table-result-container {\n",
       "    max-height: 300px;\n",
       "    overflow: auto;\n",
       "  }\n",
       "  table, th, td {\n",
       "    border: 1px solid black;\n",
       "    border-collapse: collapse;\n",
       "  }\n",
       "  th, td {\n",
       "    padding: 5px;\n",
       "  }\n",
       "  th {\n",
       "    text-align: left;\n",
       "  }\n",
       "</style><div class='table-result-container'><table class='table-result'><thead style='background-color: white'><tr><th>format</th><th>id</th><th>name</th><th>description</th><th>location</th><th>createdAt</th><th>lastModified</th><th>partitionColumns</th><th>numFiles</th><th>sizeInBytes</th><th>properties</th><th>minReaderVersion</th><th>minWriterVersion</th><th>tableFeatures</th><th>statistics</th></tr></thead><tbody><tr><td>delta</td><td>ae48958a-380d-41c4-bf88-831b1f5eb9ba</td><td>spark_catalog.brasil_api.tb_feriados</td><td>null</td><td>dbfs:/user/hive/warehouse/brasil_api.db/tb_feriados</td><td>2023-11-27T23:40:22.382+0000</td><td>2023-11-27T23:40:32.000+0000</td><td>List()</td><td>8</td><td>9665</td><td>Map()</td><td>1</td><td>2</td><td>List(appendOnly, invariants)</td><td>Map()</td></tr></tbody></table></div>"
      ]
     },
     "metadata": {
      "application/vnd.databricks.v1+output": {
       "addedWidgets": {},
       "aggData": [],
       "aggError": "",
       "aggOverflow": false,
       "aggSchema": [],
       "aggSeriesLimitReached": false,
       "aggType": "",
       "arguments": {},
       "columnCustomDisplayInfos": {},
       "data": [
        [
         "delta",
         "ae48958a-380d-41c4-bf88-831b1f5eb9ba",
         "spark_catalog.brasil_api.tb_feriados",
         null,
         "dbfs:/user/hive/warehouse/brasil_api.db/tb_feriados",
         "2023-11-27T23:40:22.382+0000",
         "2023-11-27T23:40:32.000+0000",
         [],
         8,
         9665,
         {},
         1,
         2,
         [
          "appendOnly",
          "invariants"
         ],
         {}
        ]
       ],
       "datasetInfos": [],
       "dbfsResultPath": null,
       "isJsonSchema": true,
       "metadata": {},
       "overflow": false,
       "plotOptions": {
        "customPlotOptions": {},
        "displayType": "table",
        "pivotAggregation": null,
        "pivotColumns": null,
        "xColumns": null,
        "yColumns": null
       },
       "removedWidgets": [],
       "schema": [
        {
         "metadata": "{}",
         "name": "format",
         "type": "\"string\""
        },
        {
         "metadata": "{}",
         "name": "id",
         "type": "\"string\""
        },
        {
         "metadata": "{}",
         "name": "name",
         "type": "\"string\""
        },
        {
         "metadata": "{}",
         "name": "description",
         "type": "\"string\""
        },
        {
         "metadata": "{}",
         "name": "location",
         "type": "\"string\""
        },
        {
         "metadata": "{}",
         "name": "createdAt",
         "type": "\"timestamp\""
        },
        {
         "metadata": "{}",
         "name": "lastModified",
         "type": "\"timestamp\""
        },
        {
         "metadata": "{}",
         "name": "partitionColumns",
         "type": "{\"type\":\"array\",\"elementType\":\"string\",\"containsNull\":true}"
        },
        {
         "metadata": "{}",
         "name": "numFiles",
         "type": "\"long\""
        },
        {
         "metadata": "{}",
         "name": "sizeInBytes",
         "type": "\"long\""
        },
        {
         "metadata": "{}",
         "name": "properties",
         "type": "{\"type\":\"map\",\"keyType\":\"string\",\"valueType\":\"string\",\"valueContainsNull\":true}"
        },
        {
         "metadata": "{}",
         "name": "minReaderVersion",
         "type": "\"integer\""
        },
        {
         "metadata": "{}",
         "name": "minWriterVersion",
         "type": "\"integer\""
        },
        {
         "metadata": "{}",
         "name": "tableFeatures",
         "type": "{\"type\":\"array\",\"elementType\":\"string\",\"containsNull\":true}"
        },
        {
         "metadata": "{}",
         "name": "statistics",
         "type": "{\"type\":\"map\",\"keyType\":\"string\",\"valueType\":\"long\",\"valueContainsNull\":true}"
        }
       ],
       "type": "table"
      }
     },
     "output_type": "display_data"
    }
   ],
   "source": [
    "%sql\n",
    "describe detail brasil_api.tb_feriados"
   ]
  }
 ],
 "metadata": {
  "application/vnd.databricks.v1+notebook": {
   "dashboards": [],
   "language": "python",
   "notebookMetadata": {
    "mostRecentlyExecutedCommandWithImplicitDF": {
     "commandId": 2466582897652904,
     "dataframes": [
      "_sqldf"
     ]
    },
    "pythonIndentUnit": 4
   },
   "notebookName": "Conexao-api",
   "widgets": {}
  }
 },
 "nbformat": 4,
 "nbformat_minor": 0
}
